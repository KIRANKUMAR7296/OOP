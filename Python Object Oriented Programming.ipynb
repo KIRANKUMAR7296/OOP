{
 "cells": [
  {
   "cell_type": "markdown",
   "metadata": {},
   "source": [
    "# Object Oriented Programming\n",
    "\n",
    "1. **Class** : Blueprint | Template of Real World Entity.\n",
    "2. **Object** : Instance of Class."
   ]
  },
  {
   "cell_type": "code",
   "execution_count": 1,
   "metadata": {},
   "outputs": [],
   "source": [
    "class Phone:\n",
    "    \n",
    "    def make_call(self):\n",
    "        print(\"👦🏻📞 Calling...\")\n",
    "        \n",
    "    def play_game(self):\n",
    "        print(\"🚗🚙🚐🚌\")"
   ]
  },
  {
   "cell_type": "code",
   "execution_count": 2,
   "metadata": {},
   "outputs": [],
   "source": [
    "apple = Phone() # Create Instance "
   ]
  },
  {
   "cell_type": "code",
   "execution_count": 3,
   "metadata": {},
   "outputs": [
    {
     "name": "stdout",
     "output_type": "stream",
     "text": [
      "🚗🚙🚐🚌\n"
     ]
    }
   ],
   "source": [
    "apple.play_game() # Call Method"
   ]
  },
  {
   "cell_type": "markdown",
   "metadata": {},
   "source": [
    "Adding **Parameters** to the Class"
   ]
  },
  {
   "cell_type": "code",
   "execution_count": 4,
   "metadata": {},
   "outputs": [],
   "source": [
    "class Phone:\n",
    "    \n",
    "    def set_color(self,color):\n",
    "        self.color = color\n",
    "    \n",
    "    def set_cost(self,cost):\n",
    "        self.cost = cost\n",
    "        \n",
    "    def show_color(self):\n",
    "        return self.color\n",
    "    \n",
    "    def show_cost(self):\n",
    "        return self.cost\n",
    "    \n",
    "    def make_call(self):\n",
    "        print('Someone is Calling...👦🏻')\n",
    "        \n",
    "    def play_game(self):\n",
    "        print('Playing Game 🚗')"
   ]
  },
  {
   "cell_type": "code",
   "execution_count": 5,
   "metadata": {},
   "outputs": [],
   "source": [
    "samsung = Phone() # Create Instance"
   ]
  },
  {
   "cell_type": "code",
   "execution_count": 6,
   "metadata": {},
   "outputs": [
    {
     "name": "stdout",
     "output_type": "stream",
     "text": [
      "Jet Black\n"
     ]
    }
   ],
   "source": [
    "samsung.set_color(\"Jet Black\") \n",
    "print(samsung.show_color())"
   ]
  },
  {
   "cell_type": "code",
   "execution_count": 7,
   "metadata": {},
   "outputs": [
    {
     "name": "stdout",
     "output_type": "stream",
     "text": [
      "55000\n"
     ]
    }
   ],
   "source": [
    "samsung.set_cost(55000)\n",
    "print(samsung.show_cost())"
   ]
  },
  {
   "cell_type": "code",
   "execution_count": 8,
   "metadata": {},
   "outputs": [
    {
     "name": "stdout",
     "output_type": "stream",
     "text": [
      "Someone is Calling...👦🏻\n"
     ]
    }
   ],
   "source": [
    "samsung.make_call()"
   ]
  },
  {
   "cell_type": "markdown",
   "metadata": {},
   "source": [
    "Creating a Class with **Constructor**\n",
    "\n",
    "**\\_\\_init\\_\\_** method acts as an Constructor.\n",
    "\n",
    "All the Properties are Declared | Assigned at one place."
   ]
  },
  {
   "cell_type": "code",
   "execution_count": 9,
   "metadata": {},
   "outputs": [],
   "source": [
    "class Employee:\n",
    "    \n",
    "    def __init__(self,name,age,salary,gender):\n",
    "        self.name = name\n",
    "        self.age = age\n",
    "        self.salary = salary\n",
    "        self.gender = gender\n",
    "        \n",
    "    def employee_details(self):\n",
    "        print(f'Name of the Employee : {self.name}')\n",
    "        print(f'Age of the Employee : {self.age} Years')\n",
    "        print(f'Salary of the Employee : {self.salary} ₹')\n",
    "        print(f'Gender of the Employee : {self.gender}')"
   ]
  },
  {
   "cell_type": "code",
   "execution_count": 10,
   "metadata": {},
   "outputs": [],
   "source": [
    "emp1 = Employee('Kirankumar Yadav',25,50000,'Male') # Create Instance"
   ]
  },
  {
   "cell_type": "code",
   "execution_count": 11,
   "metadata": {},
   "outputs": [
    {
     "name": "stdout",
     "output_type": "stream",
     "text": [
      "Name of the Employee : Kirankumar Yadav\n",
      "Age of the Employee : 25 Years\n",
      "Salary of the Employee : 50000 ₹\n",
      "Gender of the Employee : Male\n"
     ]
    }
   ],
   "source": [
    "emp1.employee_details() # Call Method"
   ]
  },
  {
   "cell_type": "markdown",
   "metadata": {},
   "source": [
    "### Inheritance\n",
    "\n",
    "One Class can derive the **Properties** and **Methods** of another class.\n",
    "\n",
    "e.g. Child inherits genetic or financial features from Father or Mother. (Hair, Property, Height, Color)\n",
    "\n",
    "Base Class | Parent Class | Super Class\n",
    "\n",
    "Derived Class | Child Class | Sub Class"
   ]
  },
  {
   "cell_type": "code",
   "execution_count": 12,
   "metadata": {},
   "outputs": [],
   "source": [
    "# Base Class | Parent Class | Super Class\n",
    "\n",
    "class Vehicle:\n",
    "    \n",
    "    def __init__(self,model,mileage,cost):\n",
    "        self.model = model\n",
    "        self.mileage = mileage\n",
    "        self.cost = cost\n",
    "        \n",
    "    def show_details(self):\n",
    "        print(f'Model : {self.model}')\n",
    "        print(f'Mileage : {self.mileage}')\n",
    "        print(f'Cost : {self.cost} ₹')"
   ]
  },
  {
   "cell_type": "code",
   "execution_count": 13,
   "metadata": {},
   "outputs": [],
   "source": [
    "honda = Vehicle(\"Unicorn\",55,120000) # Create Instance"
   ]
  },
  {
   "cell_type": "code",
   "execution_count": 14,
   "metadata": {},
   "outputs": [
    {
     "name": "stdout",
     "output_type": "stream",
     "text": [
      "Model : Unicorn\n",
      "Mileage : 55\n",
      "Cost : 120000 ₹\n"
     ]
    }
   ],
   "source": [
    "honda.show_details() # Call Method"
   ]
  },
  {
   "cell_type": "code",
   "execution_count": 15,
   "metadata": {},
   "outputs": [],
   "source": [
    "# Derived Class | Child Class | Sub Class\n",
    "\n",
    "class Motorcycle(Vehicle): \n",
    "    \n",
    "    def test_ride(self):\n",
    "        print('🚲🛵')\n",
    "\n",
    "class Car(Vehicle):        \n",
    "    \n",
    "    def test_drive(self):\n",
    "        print('🚗🚙')"
   ]
  },
  {
   "cell_type": "code",
   "execution_count": 16,
   "metadata": {},
   "outputs": [],
   "source": [
    "# Create Instance for Derived Class\n",
    "\n",
    "bajaj = Motorcycle(\"Pulsar 220f\",35,145000)\n",
    "\n",
    "tata = Car(\"Safari\",20,2000000)"
   ]
  },
  {
   "cell_type": "code",
   "execution_count": 17,
   "metadata": {},
   "outputs": [
    {
     "name": "stdout",
     "output_type": "stream",
     "text": [
      "Model : Pulsar 220f\n",
      "Mileage : 35\n",
      "Cost : 145000 ₹\n"
     ]
    }
   ],
   "source": [
    "bajaj.show_details() # Call Method of Parent Class via Derived Class."
   ]
  },
  {
   "cell_type": "code",
   "execution_count": 18,
   "metadata": {},
   "outputs": [
    {
     "name": "stdout",
     "output_type": "stream",
     "text": [
      "Model : Safari\n",
      "Mileage : 20\n",
      "Cost : 2000000 ₹\n"
     ]
    }
   ],
   "source": [
    "tata.show_details() # Call Method of Parent Class via Derived Class."
   ]
  },
  {
   "cell_type": "code",
   "execution_count": 19,
   "metadata": {},
   "outputs": [
    {
     "name": "stdout",
     "output_type": "stream",
     "text": [
      "🚲🛵\n"
     ]
    }
   ],
   "source": [
    "bajaj.test_ride() # Call Method inside Derived Class"
   ]
  },
  {
   "cell_type": "code",
   "execution_count": 20,
   "metadata": {},
   "outputs": [
    {
     "name": "stdout",
     "output_type": "stream",
     "text": [
      "🚗🚙\n"
     ]
    }
   ],
   "source": [
    "tata.test_drive() # Call Method inside Derived Class"
   ]
  },
  {
   "cell_type": "markdown",
   "metadata": {},
   "source": [
    "Overriding **init** method"
   ]
  },
  {
   "cell_type": "code",
   "execution_count": 21,
   "metadata": {},
   "outputs": [],
   "source": [
    "# Base Class | Parent Class | Super Class\n",
    "\n",
    "class Vehicle:\n",
    "    \"Class for Vehicles\"\n",
    "    \n",
    "    def __init__(self,model,mileage,price):\n",
    "        self.model = model\n",
    "        self.mileage = mileage\n",
    "        self.price = price\n",
    "        \n",
    "    def show_details(self):\n",
    "        print(f'Model : {self.model}')\n",
    "        print(f'Mileage : {self.mileage}')\n",
    "        print(f'Price : {self.price}')\n",
    "        \n",
    "# Derived Class | Child Class | Sub Class        \n",
    "        \n",
    "class Motorcycle(Vehicle):\n",
    "    \"Class for Motorcycles\"\n",
    "    \n",
    "    # Inherit Properties and Override\n",
    "    def __init__(self,model,mileage,price,tyre,cc):\n",
    "        super().__init__(model,mileage,price)\n",
    "        self.tyre = tyre\n",
    "        self.cc = cc\n",
    "    \n",
    "    # Inherit Behavior and Override\n",
    "    def show_details(self):\n",
    "        super().show_details()\n",
    "        print(f'Tyres : {self.tyre}')\n",
    "        print(f'CC : {self.cc}')\n",
    "    \n",
    "    # Method of Derived Class\n",
    "    def test_ride(self):\n",
    "        print('🚲🛵')\n",
    "        \n",
    "# Multiple and Multilevel Inheritance (Car Inherits from Vehicle and Motorcycle)\n",
    "\n",
    "class Car(Motorcycle,Vehicle):\n",
    "    \"Class for Car\"\n",
    "    \n",
    "    def test_drive(self):\n",
    "        print('🚗🚙')"
   ]
  },
  {
   "cell_type": "code",
   "execution_count": 22,
   "metadata": {},
   "outputs": [],
   "source": [
    "# Create Instances\n",
    "\n",
    "hero = Motorcycle('Impulse',35,140000,2,200)\n",
    "\n",
    "maruti = Car('Wagon R',25,500000,4,1100)"
   ]
  },
  {
   "cell_type": "code",
   "execution_count": 23,
   "metadata": {},
   "outputs": [
    {
     "name": "stdout",
     "output_type": "stream",
     "text": [
      "Model : Impulse\n",
      "Mileage : 35\n",
      "Price : 140000\n",
      "Tyres : 2\n",
      "CC : 200\n"
     ]
    }
   ],
   "source": [
    "# Call Method inside Parent Class and Inherited Child Class\n",
    "hero.show_details()"
   ]
  },
  {
   "cell_type": "code",
   "execution_count": 24,
   "metadata": {},
   "outputs": [
    {
     "name": "stdout",
     "output_type": "stream",
     "text": [
      "Model : Wagon R\n",
      "Mileage : 25\n",
      "Price : 500000\n",
      "Tyres : 4\n",
      "CC : 1100\n"
     ]
    }
   ],
   "source": [
    "# Call Method inisde Parent Class\n",
    "maruti.show_details()"
   ]
  },
  {
   "cell_type": "code",
   "execution_count": 25,
   "metadata": {},
   "outputs": [
    {
     "name": "stdout",
     "output_type": "stream",
     "text": [
      "🚲🛵\n"
     ]
    }
   ],
   "source": [
    "# Call Method inside Child Class Only\n",
    "hero.test_ride()"
   ]
  },
  {
   "cell_type": "code",
   "execution_count": 26,
   "metadata": {},
   "outputs": [
    {
     "name": "stdout",
     "output_type": "stream",
     "text": [
      "🚗🚙\n"
     ]
    }
   ],
   "source": [
    "# Call Method inside Child Class Only\n",
    "maruti.test_drive()"
   ]
  },
  {
   "cell_type": "markdown",
   "metadata": {},
   "source": [
    "Type of Inheritance\n",
    "\n",
    "1. Single Inheritance\n",
    "2. Multiple Inheritance\n",
    "3. Multilevel Inheritance\n",
    "4. Hybrid Inheritance"
   ]
  }
 ],
 "metadata": {
  "kernelspec": {
   "display_name": "Python 3",
   "language": "python",
   "name": "python3"
  },
  "language_info": {
   "codemirror_mode": {
    "name": "ipython",
    "version": 3
   },
   "file_extension": ".py",
   "mimetype": "text/x-python",
   "name": "python",
   "nbconvert_exporter": "python",
   "pygments_lexer": "ipython3",
   "version": "3.8.5"
  }
 },
 "nbformat": 4,
 "nbformat_minor": 4
}
